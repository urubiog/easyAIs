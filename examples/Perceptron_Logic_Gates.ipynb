{
 "cells": [
  {
   "cell_type": "markdown",
   "id": "899ee617",
   "metadata": {},
   "source": [
    "***Copyright (c) 2024 Uriel Rubio García | easyAIs. All Rights Reserved.***"
   ]
  },
  {
   "cell_type": "code",
   "execution_count": null,
   "id": "1494e39c",
   "metadata": {},
   "outputs": [],
   "source": [
    "# MIT License\n",
    "\n",
    "# Copyright (c) 2024 Uriel Rubio García\n",
    "\n",
    "# Permission is hereby granted, free of charge, to any person obtaining a copy\n",
    "# of this software and associated documentation files (the \"Software\"), to deal\n",
    "# in the Software without restriction, including without limitation the rights\n",
    "# to use, copy, modify, merge, publish, distribute, sublicense, and/or sell\n",
    "# copies of the Software, and to permit persons to whom the Software is\n",
    "# furnished to do so, subject to the following conditions:\n",
    "\n",
    "# The above copyright notice and this permission notice shall be included in all\n",
    "# copies or substantial portions of the Software.\n",
    "\n",
    "# THE SOFTWARE IS PROVIDED \"AS IS\", WITHOUT WARRANTY OF ANY KIND, EXPRESS OR\n",
    "# IMPLIED, INCLUDING BUT NOT LIMITED TO THE WARRANTIES OF MERCHANTABILITY,\n",
    "# FITNESS FOR A PARTICULAR PURPOSE AND NONINFRINGEMENT. IN NO EVENT SHALL THE\n",
    "# AUTHORS OR COPYRIGHT HOLDERS BE LIABLE FOR ANY CLAIM, DAMAGES OR OTHER\n",
    "# LIABILITY, WHETHER IN AN ACTION OF CONTRACT, TORT OR OTHERWISE, ARISING FROM,\n",
    "# OUT OF OR IN CONNECTION WITH THE SOFTWARE OR THE USE OR OTHER DEALINGS IN THE\n",
    "# SOFTWARE."
   ]
  },
  {
   "cell_type": "markdown",
   "id": "b8f6246b",
   "metadata": {},
   "source": [
    "# Building Logic Gates using the Perceptron\n",
    "Notebook orignially contributed by: [Uriel Rubio](https://github.com/urubiog)\n",
    "\n",
    "<table class=\"tfo-notebook-buttons\" align=\"left\">\n",
    "  <td>\n",
    "    <a target=\"_blank\" href=\"https://github.com/urubiog/easyAIs/blob/main/examples/\"><img src=\"https://www.tensorflow.org/images/GitHub-Mark-32px.png\" />View source on GitHub</a>\n",
    "  </td>\n",
    "</table>"
   ]
  },
  {
   "cell_type": "markdown",
   "id": "89d7a5ba",
   "metadata": {},
   "source": [
    "## Approach\n",
    "A perceptron is a fundamental unit in neural networks that can be trained to perform binary classification tasks. In this context, we will explore how a single-layer perceptron can be trained to imitate basic logic gates, such as AND and OR.\n",
    "\n",
    "### The Perceptron\n",
    "A perceptron is a type of artificial neuron used in machine learning for binary classification tasks. It consists of:\n",
    "\n",
    "- **Inputs**: Features or variables $x_1, x_2, \\ldots, x_n$\n",
    "- **Weights**: Parameters $w_1, w_2, \\ldots, w_n$ associated with each input\n",
    "- **Bias**: A constant $b$ added to the weighted sum\n",
    "- **Activation Function**: Determines the output based on the weighted sum\n",
    "\n",
    "<div>\n",
    "<img src=\"attachment:image.png\" width=\"400\"/>\n",
    "</div>\n",
    "\n",
    "The output $y$ of a perceptron is computed as:\n",
    "\n",
    "$$y = H\\left(\\sum_{i=1}^{n} w_i x_i + b\\right)$$\n",
    "\n",
    "where $H$ is the activation function, defined as a step function for binary classification:\n",
    "\n",
    "$$H(t) = \n",
    "\\begin{cases} \n",
    "1 & \\text{if } t \\geq 0 \\\\\n",
    "0 & \\text{if } t < 0 \n",
    "\\end{cases}$$\n"
   ]
  },
  {
   "cell_type": "markdown",
   "id": "5cf28fed",
   "metadata": {},
   "source": [
    "## Setup"
   ]
  },
  {
   "cell_type": "code",
   "execution_count": 4,
   "id": "fedd2a22",
   "metadata": {},
   "outputs": [
    {
     "ename": "ImportError",
     "evalue": "attempted relative import with no known parent package",
     "output_type": "error",
     "traceback": [
      "\u001b[1;31m---------------------------------------------------------------------------\u001b[0m",
      "\u001b[1;31mImportError\u001b[0m                               Traceback (most recent call last)",
      "Cell \u001b[1;32mIn[4], line 1\u001b[0m\n\u001b[1;32m----> 1\u001b[0m \u001b[38;5;28;01mfrom\u001b[39;00m \u001b[38;5;21;01m.\u001b[39;00m\u001b[38;5;21;01m.\u001b[39;00m\u001b[38;5;21;01msrc\u001b[39;00m\u001b[38;5;21;01m.\u001b[39;00m\u001b[38;5;21;01measyAIs\u001b[39;00m\u001b[38;5;21;01m.\u001b[39;00m\u001b[38;5;21;01marquitectures\u001b[39;00m \u001b[38;5;28;01mimport\u001b[39;00m Perceptron\n\u001b[0;32m      2\u001b[0m \u001b[38;5;28;01mfrom\u001b[39;00m \u001b[38;5;21;01mrandom\u001b[39;00m \u001b[38;5;28;01mimport\u001b[39;00m randint\n",
      "\u001b[1;31mImportError\u001b[0m: attempted relative import with no known parent package"
     ]
    }
   ],
   "source": [
    "from src.easyAIs.arquitectures import Perceptron\n",
    "from random import randint"
   ]
  },
  {
   "cell_type": "markdown",
   "id": "f8134d75",
   "metadata": {},
   "source": [
    "## Content"
   ]
  },
  {
   "cell_type": "code",
   "execution_count": null,
   "id": "07f25266",
   "metadata": {},
   "outputs": [],
   "source": [
    "# Let's define the model arquitecture\n",
    "ENTRIES: int = 2  # Input nodes\n",
    "\n",
    "# Generating the binary data\n",
    "X: list[int] = [randint(0, 1) for _ in range(200)]"
   ]
  },
  {
   "cell_type": "markdown",
   "id": "a0a0eab9",
   "metadata": {},
   "source": [
    "#### AND gate"
   ]
  },
  {
   "cell_type": "code",
   "execution_count": null,
   "id": "99862dbf",
   "metadata": {},
   "outputs": [],
   "source": [
    "y: list[int] = [int(bool(X[i]) and bool(X[i + 1])) for i in range(0, len(X) - 1, 2)]\n",
    "\n",
    "p = Perceptron(ENTRIES)\n",
    "\n",
    "p.fit(X, y, verbose=True)\n",
    "\n",
    "print(f\"\"\"AND:\n",
    "[0, 0]: {and_g([0,0])}\n",
    "[0, 1]: {and_g([0,1])}\n",
    "[1, 0]: {and_g([1,0])}\n",
    "[1, 1]: {and_g([1,1])}\n",
    "\"\"\")"
   ]
  },
  {
   "cell_type": "markdown",
   "id": "cfe3dae0",
   "metadata": {},
   "source": [
    "#### OR gate"
   ]
  },
  {
   "cell_type": "code",
   "execution_count": null,
   "id": "45ca8767",
   "metadata": {},
   "outputs": [],
   "source": [
    "y: list = [int(bool(X[i]) or bool(X[i + 1])) for i in range(0, len(X) - 1, 2)]\n",
    "\n",
    "p = Perceptron(ENTRIES)\n",
    "\n",
    "p.fit(X, y)\n",
    "\n",
    "print(f\"\"\"OR:\n",
    "[0, 0]: {or_g([0,0])}\n",
    "[0, 1]: {or_g([0,1])}\n",
    "[1, 0]: {or_g([1,0])}\n",
    "[1, 1]: {or_g([1,1])}\n",
    "\"\"\")"
   ]
  },
  {
   "cell_type": "markdown",
   "id": "8a0e6d06",
   "metadata": {},
   "source": [
    "#### NAND gate"
   ]
  },
  {
   "cell_type": "code",
   "execution_count": null,
   "id": "99465229",
   "metadata": {},
   "outputs": [],
   "source": [
    "y: list = [int(not (bool(X[i]) and bool(X[i + 1]))) for i in range(0, len(X) - 1, 2)]\n",
    "\n",
    "p = Perceptron(ENTRIES)\n",
    "\n",
    "p.fit(X, nand_y)\n",
    "\n",
    "print(f\"\"\"NAND:\n",
    "[0, 0]: {nand_g([0,0])}\n",
    "[0, 1]: {nand_g([0,1])}\n",
    "[1, 0]: {nand_g([1,0])}\n",
    "[1, 1]: {nand_g([1,1])}\n",
    "\"\"\")"
   ]
  },
  {
   "cell_type": "markdown",
   "id": "efd246ea",
   "metadata": {},
   "source": [
    "### Thanks\n",
    "Thanks for taking your time to review an example for the easyAIs framework. We hope this content was usefull :).\n",
    "\n",
    "easyAIs's creator, Uriel Rubio.\n"
   ]
  }
 ],
 "metadata": {
  "kernelspec": {
   "display_name": "Python 3 (ipykernel)",
   "language": "python",
   "name": "python3"
  },
  "language_info": {
   "codemirror_mode": {
    "name": "ipython",
    "version": 3
   },
   "file_extension": ".py",
   "mimetype": "text/x-python",
   "name": "python",
   "nbconvert_exporter": "python",
   "pygments_lexer": "ipython3",
   "version": "3.12.0"
  }
 },
 "nbformat": 4,
 "nbformat_minor": 5
}
