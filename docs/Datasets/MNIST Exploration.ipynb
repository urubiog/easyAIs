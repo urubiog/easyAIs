{
 "cells": [
  {
   "cell_type": "markdown",
   "id": "ebb07397",
   "metadata": {},
   "source": [
    "# MNIST Exploration"
   ]
  },
  {
   "cell_type": "markdown",
   "id": "9e04e7d6",
   "metadata": {},
   "source": [
    "![MNIST](./../../imgs/MNIST.jpg)\n",
    "\n",
    "This notebook is an exploration for the dataset MNIST (Modified National Institute of Standards and Technology). MNIST is a large database of handwritten digits that is commonly used for training various image processing systems."
   ]
  },
  {
   "cell_type": "markdown",
   "id": "d2140c19",
   "metadata": {},
   "source": [
    "1. [Introduction](#1-introduction)  \n",
    "    1.1 [Objective of the Analysis](#11-objective-of-the-analysis)\n",
    "    1.2 [Overview of the MNIST Dataset](#12-overview-of-the-mnist-dataset)  \n",
    "    1.3 [Relevance to the Research and Deep Learning Library](#13-relevance-to-the-research-and-deep-learning-library)\n",
    "\n",
    "2. [Loading and Preprocessing the Data](#2-loading-and-preprocessing-the-data)  \n",
    "    2.1 [Loading MNIST Dataset Using External Library](#21-loading-mnist-dataset-using-external-library)  \n",
    "    2.2 [Data Structure and Format Overview](#22-data-structure-and-format-overview)\n",
    "\n",
    "3. [Statistical Overview](#3-statistical-overview)  \n",
    "    3.1 [Class Distribution (Digit Frequency)](#31-class-distribution-digit-frequency)  \n",
    "    3.2 [Basic Statistical Measures (Mean, Variance, etc.)](#32-basic-statistical-measures-mean-variance-etc)  \n",
    "    3.3 [Identifying Imbalance in Data](#33-identifying-imbalance-in-data)\n",
    "\n",
    "4. [Data Visualization](#4-data-visualization)  \n",
    "    4.1 [Sample Visualizations of MNIST Digits](#41-sample-visualizations-of-mnist-digits)  \n",
    "    4.2 [Heatmaps of Sample Images](#42-heatmaps-of-sample-images)\n",
    "\n",
    "5. [Data Preparation for Modeling](#5-data-preparation-for-modeling)  \n",
    "    5.1 [Train-Test Split](#51-train-test-split)  \n",
    "    5.2 [Preparing Data for Neural Network Input](#52-preparing-data-for-neural-network-input)\n",
    "\n",
    "6. [MLP Digit Recognition](#6-mlp-digit-recognition)  \n",
    "    6.1 [Building a Simple MLP Model](#61-building-a-simple-mlp-model)  \n",
    "    6.2 [Training the MLP on MNIST](#62-training-the-mlp-on-mnist)  \n",
    "    6.3 [Evaluating Model Performance (Accuracy, Loss)](#63-evaluating-model-performance-accuracy-loss)  \n",
    "    6.4 [Visualizing Model Predictions](#64-visualizing-model-predictions)\n"
   ]
  },
  {
   "cell_type": "markdown",
   "id": "9edc0485",
   "metadata": {},
   "source": [
    "## 1. Introduction"
   ]
  },
  {
   "cell_type": "markdown",
   "id": "8d215707",
   "metadata": {},
   "source": [
    "In the ever-evolving field of deep learning, the ability to accurately recognize handwritten digits is a foundational task that showcases the potential of neural networks. The MNIST dataset, comprising 70,000 images of handwritten digits ranging from 0 to 9, serves as a benchmark for evaluating various machine learning models.\n",
    "\n",
    "In the ever-evolving field of deep learning, the ability to accurately recognize handwritten digits is a foundational task that showcases the potential of neural networks. The MNIST dataset, comprising 70,000 images of handwritten digits ranging from 0 to 9, serves as a benchmark for evaluating various machine learning models."
   ]
  },
  {
   "cell_type": "markdown",
   "id": "64c8d5fe",
   "metadata": {},
   "source": [
    "### 1.1 Objective of the analysis"
   ]
  },
  {
   "cell_type": "markdown",
   "id": "3161b7bf",
   "metadata": {},
   "source": [
    "The primary objective of this analysis is to conduct a comprehensive exploration of the MNIST dataset. By understanding its structure and characteristics, we aim to establish a robust foundation for the practical implementation of a Multi-Layer Perceptron (MLP) model within our deep learning library."
   ]
  },
  {
   "cell_type": "markdown",
   "id": "c1f3a380",
   "metadata": {},
   "source": [
    "### 1.2 Overview of the MNIST Dataset"
   ]
  },
  {
   "cell_type": "markdown",
   "id": "1dc2288c",
   "metadata": {},
   "source": [
    "The MNIST dataset is divided into a training set of 60,000 images and a test set of 10,000 images. Each image is a grayscale representation of a handwritten digit, with a resolution of 28x28 pixels. This uniformity and scale make it an ideal dataset for experimenting with various deep learning architectures.\n",
    "\n",
    "The MNIST dataset is divided into a training set of 60,000 images and a test set of 10,000 images. Each image is a grayscale representation of a handwritten digit, with a resolution of 28x28 pixels. This uniformity and scale make it an ideal dataset for experimenting with various deep learning architectures."
   ]
  },
  {
   "cell_type": "markdown",
   "id": "78b9ad4f",
   "metadata": {},
   "source": [
    "### 1.3 Relevance to the Research and Deep Learning Library"
   ]
  },
  {
   "cell_type": "markdown",
   "id": "b56398cc",
   "metadata": {},
   "source": [
    "The insights gained from this exploratory analysis will not only contribute to the academic rigor of our research work but also enhance the usability and performance of our deep learning library. By providing a thorough examination of the dataset, we can ensure that our library is equipped to handle similar tasks effectively, paving the way for future advancements in digit recognition and beyond."
   ]
  },
  {
   "cell_type": "markdown",
   "id": "3789a838",
   "metadata": {},
   "source": [
    "## 2. Loading and Preprocessing the Data"
   ]
  },
  {
   "cell_type": "markdown",
   "id": "90190cfb",
   "metadata": {},
   "source": [
    "### 2.1 Loading MNIST Dataset Using External Library"
   ]
  },
  {
   "cell_type": "markdown",
   "id": "ea0aec4a",
   "metadata": {},
   "source": [
    "Most deep learning frameworks provide APIs for loading famous datasets like MNIST (e.g., torchvision.datasets.MNIST in pytorch). The APIs are handy, but hide the important step for preparing a training data for a deep learning framework; when graduating from an example dataset to the real data, we must convert a training data of our interest into the data structure that is acceptable by a deep learning framework.\n",
    "\n",
    "We will load the MNIST dataset using the code authored by Marc Garcia, which can be found [here](https://github.com/datapythonista/mnist). This code efficiently retrieves the dataset in a structured format, facilitating further analysis. We will ensure to include the proper attribution to the original source."
   ]
  },
  {
   "cell_type": "code",
   "execution_count": 27,
   "id": "c1992609",
   "metadata": {},
   "outputs": [],
   "source": [
    "# All attrs. to Marc Garcia (https://github.com/datapythonista/mnist)\n",
    "\n",
    "import os\n",
    "import functools\n",
    "import operator\n",
    "import gzip\n",
    "import struct\n",
    "import array\n",
    "import tempfile\n",
    "try:\n",
    "    from urllib.request import urlretrieve\n",
    "except ImportError:\n",
    "    from urllib import urlretrieve  # py2\n",
    "try:\n",
    "    from urllib.parse import urljoin\n",
    "except ImportError:\n",
    "    from urlparse import urljoin\n",
    "import numpy\n",
    "\n",
    "\n",
    "# `datasets_url` and `temporary_dir` can be set by the user using:\n",
    "# >>> mnist.datasets_url = 'http://my.mnist.url'\n",
    "# >>> mnist.temporary_dir = lambda: '/tmp/mnist'\n",
    "datasets_url = 'https://storage.googleapis.com/cvdf-datasets/mnist/'\n",
    "temporary_dir = tempfile.gettempdir\n",
    "\n",
    "\n",
    "class IdxDecodeError(ValueError):\n",
    "    \"\"\"Raised when an invalid idx file is parsed.\"\"\"\n",
    "    pass\n",
    "\n",
    "\n",
    "def download_file(fname, target_dir=None, force=False):\n",
    "    \"\"\"Download fname from the datasets_url, and save it to target_dir,\n",
    "    unless the file already exists, and force is False.\n",
    "\n",
    "    Parameters\n",
    "    ----------\n",
    "    fname : str\n",
    "        Name of the file to download\n",
    "\n",
    "    target_dir : str\n",
    "        Directory where to store the file\n",
    "\n",
    "    force : bool\n",
    "        Force downloading the file, if it already exists\n",
    "\n",
    "    Returns\n",
    "    -------\n",
    "    fname : str\n",
    "        Full path of the downloaded file\n",
    "    \"\"\"\n",
    "    target_dir = target_dir or temporary_dir()\n",
    "    target_fname = os.path.join(target_dir, fname)\n",
    "\n",
    "    if force or not os.path.isfile(target_fname):\n",
    "        url = urljoin(datasets_url, fname)\n",
    "        urlretrieve(url, target_fname)\n",
    "\n",
    "    return target_fname\n",
    "\n",
    "\n",
    "def parse_idx(fd):\n",
    "    \"\"\"Parse an IDX file, and return it as a numpy array.\n",
    "\n",
    "    Parameters\n",
    "    ----------\n",
    "    fd : file\n",
    "        File descriptor of the IDX file to parse\n",
    "\n",
    "    endian : str\n",
    "        Byte order of the IDX file. See [1] for available options\n",
    "\n",
    "    Returns\n",
    "    -------\n",
    "    data : numpy.ndarray\n",
    "        Numpy array with the dimensions and the data in the IDX file\n",
    "\n",
    "    1. https://docs.python.org/3/library/struct.html\n",
    "        #byte-order-size-and-alignment\n",
    "    \"\"\"\n",
    "    DATA_TYPES = {0x08: 'B',  # unsigned byte\n",
    "                  0x09: 'b',  # signed byte\n",
    "                  0x0b: 'h',  # short (2 bytes)\n",
    "                  0x0c: 'i',  # int (4 bytes)\n",
    "                  0x0d: 'f',  # float (4 bytes)\n",
    "                  0x0e: 'd'}  # double (8 bytes)\n",
    "\n",
    "    header = fd.read(4)\n",
    "    if len(header) != 4:\n",
    "        raise IdxDecodeError('Invalid IDX file, '\n",
    "                             'file empty or does not contain a full header.')\n",
    "\n",
    "    zeros, data_type, num_dimensions = struct.unpack('>HBB', header)\n",
    "\n",
    "    if zeros != 0:\n",
    "        raise IdxDecodeError('Invalid IDX file, '\n",
    "                             'file must start with two zero bytes. '\n",
    "                             'Found 0x%02x' % zeros)\n",
    "\n",
    "    try:\n",
    "        data_type = DATA_TYPES[data_type]\n",
    "    except KeyError:\n",
    "        raise IdxDecodeError('Unknown data type '\n",
    "                             '0x%02x in IDX file' % data_type)\n",
    "\n",
    "    dimension_sizes = struct.unpack('>' + 'I' * num_dimensions,\n",
    "                                    fd.read(4 * num_dimensions))\n",
    "\n",
    "    data = array.array(data_type, fd.read())\n",
    "    data.byteswap()  # looks like array.array reads data as little endian\n",
    "\n",
    "    expected_items = functools.reduce(operator.mul, dimension_sizes)\n",
    "    if len(data) != expected_items:\n",
    "        raise IdxDecodeError('IDX file has wrong number of items. '\n",
    "                             'Expected: %d. Found: %d' % (expected_items,\n",
    "                                                          len(data)))\n",
    "\n",
    "    return numpy.array(data).reshape(dimension_sizes)\n",
    "\n",
    "\n",
    "def download_and_parse_mnist_file(fname, target_dir=None, force=False):\n",
    "    \"\"\"Download the IDX file named fname from the URL specified in dataset_url\n",
    "    and return it as a numpy array.\n",
    "\n",
    "    Parameters\n",
    "    ----------\n",
    "    fname : str\n",
    "        File name to download and parse\n",
    "\n",
    "    target_dir : str\n",
    "        Directory where to store the file\n",
    "\n",
    "    force : bool\n",
    "        Force downloading the file, if it already exists\n",
    "\n",
    "    Returns\n",
    "    -------\n",
    "    data : numpy.ndarray\n",
    "        Numpy array with the dimensions and the data in the IDX file\n",
    "    \"\"\"\n",
    "    fname = download_file(fname, target_dir=target_dir, force=force)\n",
    "    fopen = gzip.open if os.path.splitext(fname)[1] == '.gz' else open\n",
    "    with fopen(fname, 'rb') as fd:\n",
    "        return parse_idx(fd)\n",
    "\n",
    "\n",
    "def train_images():\n",
    "    \"\"\"Return train images from Yann LeCun MNIST database as a numpy array.\n",
    "    Download the file, if not already found in the temporary directory of\n",
    "    the system.\n",
    "\n",
    "    Returns\n",
    "    -------\n",
    "    train_images : numpy.ndarray\n",
    "        Numpy array with the images in the train MNIST database. The first\n",
    "        dimension indexes each sample, while the other two index rows and\n",
    "        columns of the image\n",
    "    \"\"\"\n",
    "    return download_and_parse_mnist_file('train-images-idx3-ubyte.gz')\n",
    "\n",
    "\n",
    "def test_images():\n",
    "    \"\"\"Return test images from Yann LeCun MNIST database as a numpy array.\n",
    "    Download the file, if not already found in the temporary directory of\n",
    "    the system.\n",
    "\n",
    "    Returns\n",
    "    -------\n",
    "    test_images : numpy.ndarray\n",
    "        Numpy array with the images in the train MNIST database. The first\n",
    "        dimension indexes each sample, while the other two index rows and\n",
    "        columns of the image\n",
    "    \"\"\"\n",
    "    return download_and_parse_mnist_file('t10k-images-idx3-ubyte.gz')\n",
    "\n",
    "\n",
    "def train_labels():\n",
    "    \"\"\"Return train labels from Yann LeCun MNIST database as a numpy array.\n",
    "    Download the file, if not already found in the temporary directory of\n",
    "    the system.\n",
    "\n",
    "    Returns\n",
    "    -------\n",
    "    train_labels : numpy.ndarray\n",
    "        Numpy array with the labels 0 to 9 in the train MNIST database.\n",
    "    \"\"\"\n",
    "    return download_and_parse_mnist_file('train-labels-idx1-ubyte.gz')\n",
    "\n",
    "\n",
    "def test_labels():\n",
    "    \"\"\"Return test labels from Yann LeCun MNIST database as a numpy array.\n",
    "    Download the file, if not already found in the temporary directory of\n",
    "    the system.\n",
    "\n",
    "    Returns\n",
    "    -------\n",
    "    test_labels : numpy.ndarray\n",
    "        Numpy array with the labels 0 to 9 in the train MNIST database.\n",
    "    \"\"\"\n",
    "    return download_and_parse_mnist_file('t10k-labels-idx1-ubyte.gz')\n"
   ]
  },
  {
   "cell_type": "markdown",
   "id": "d0284677",
   "metadata": {},
   "source": [
    "The provided code snippet is designed to download and parse the MNIST dataset, a widely used collection of handwritten digits for training and testing image processing systems. The main functionalities included are:\n",
    "\n",
    "- Downloading Files: The download_file function retrieves the required files from a specified URL and saves them in a designated directory, ensuring that files are only downloaded if they do not already exist (unless forced).\n",
    "\n",
    "- Parsing IDX Format: The parse_idx function reads IDX files, which are used for storing image and label data in the MNIST dataset. It unpacks the binary data and converts it into NumPy arrays, facilitating easy manipulation and analysis.\n",
    "\n",
    "- Data Retrieval Functions: Specific functions, such as train_images(), test_images(), train_labels(), and test_labels(), are defined to load the training and testing images and labels as NumPy arrays. Each function calls the download_and_parse_mnist_file, ensuring that the data is fetched and correctly formatted.\n",
    "\n",
    "Overall, this code efficiently sets up the foundation for working with the MNIST dataset, allowing for seamless integration into deep learning models."
   ]
  },
  {
   "cell_type": "markdown",
   "id": "d54edc67",
   "metadata": {},
   "source": [
    "### 2.2 Data Structure and Format Overview"
   ]
  },
  {
   "cell_type": "markdown",
   "id": "f4e023fa",
   "metadata": {},
   "source": [
    "Once the dataset is loaded, it is important to understand how the data is structured and returned. The `download_and_parse_mnist_file` function retrieves the dataset as NumPy arrays, making it suitable for further analysis and modeling.\n",
    "\n",
    "- Images: The training and test images are returned as NumPy arrays.\n",
    "\n",
    "- Labels: The training and test labels are returned as NumPy arrays.\n",
    "\n",
    "By leveraging these NumPy arrays, we can perform efficient computations and manipulations essential for deep learning tasks."
   ]
  },
  {
   "cell_type": "code",
   "execution_count": 1,
   "id": "202411f6",
   "metadata": {},
   "outputs": [
    {
     "name": "stdout",
     "output_type": "stream",
     "text": [
      "Training Images Shape: (60000, 28, 28)\n",
      "Training Labels Shape: (60000,)\n"
     ]
    },
    {
     "data": {
      "image/png": "[encoded data removed]",
      "text/plain": [
       "<Figure size 640x480 with 1 Axes>"
      ]
     },
     "metadata": {},
     "output_type": "display_data"
    }
   ],
   "source": [
    "# Load the MNIST dataset\n",
    "import mnist\n",
    "import numpy as np\n",
    "\n",
    "# Load training images and labels\n",
    "train_images = mnist.train_images()\n",
    "train_labels = mnist.train_labels()\n",
    "\n",
    "# Check the shape of the training images\n",
    "print(\"Training Images Shape:\", train_images.shape)  # Output: (60000, 28, 28)\n",
    "\n",
    "# Check the shape of the training labels\n",
    "print(\"Training Labels Shape:\", train_labels.shape)  # Output: (60000,)\n",
    "\n",
    "# Display the first image and its corresponding label\n",
    "import matplotlib.pyplot as plt\n",
    "\n",
    "plt.imshow(train_images[0], cmap='gray')\n",
    "plt.title(f\"Label: {train_labels[0]}\")\n",
    "plt.axis('off')\n",
    "plt.show()"
   ]
  },
  {
   "cell_type": "markdown",
   "id": "9dca2926",
   "metadata": {},
   "source": [
    "The data for the images and labels is organized in a structured manner to facilitate efficient processing. The training images are represented as a 3D NumPy array with the shape `(60000, 28, 28)`, where each image is a 28x28 pixel grid, and the first dimension corresponds to the number of images. In contrast, the training labels are stored as a 1D NumPy array with the shape `(60000,)`, where each entry corresponds to the label of the respective image. This arrangement allows for seamless integration when feeding the data into neural networks, as both images and labels can be easily indexed and manipulated.\n",
    "\n"
   ]
  },
  {
   "cell_type": "markdown",
   "id": "056439d4",
   "metadata": {},
   "source": [
    "## 3. Statistical Overview"
   ]
  },
  {
   "cell_type": "markdown",
   "id": "433e7c4f",
   "metadata": {},
   "source": [
    "### 3.1 Class Distribution (Digit Frequency)"
   ]
  },
  {
   "cell_type": "markdown",
   "id": "c72f3642",
   "metadata": {},
   "source": [
    "Understanding the distribution of classes within the MNIST dataset is crucial for identifying potential biases and ensuring a balanced representation of the digits from 0 to 9. In this section, we will analyze the frequency of each digit in the training labels.\n",
    "\n",
    "To begin, we will utilize NumPy to count the occurrences of each digit in the training labels. This information can provide insights into the dataset's balance and inform any necessary adjustments during preprocessing or model training."
   ]
  },
  {
   "cell_type": "code",
   "execution_count": 2,
   "id": "1f52adb1",
   "metadata": {},
   "outputs": [
    {
     "name": "stdout",
     "output_type": "stream",
     "text": [
      "Digit 0: 5923 occurrences\n",
      "Digit 1: 6742 occurrences\n",
      "Digit 2: 5958 occurrences\n",
      "Digit 3: 6131 occurrences\n",
      "Digit 4: 5842 occurrences\n",
      "Digit 5: 5421 occurrences\n",
      "Digit 6: 5918 occurrences\n",
      "Digit 7: 6265 occurrences\n",
      "Digit 8: 5851 occurrences\n",
      "Digit 9: 5949 occurrences\n"
     ]
    }
   ],
   "source": [
    "# Count the frequency of each digit in the training labels\n",
    "digit_counts = np.bincount(train_labels)\n",
    "\n",
    "# Display the frequency of each digit\n",
    "for digit, count in enumerate(digit_counts):\n",
    "    print(f\"Digit {digit}: {count} occurrences\")"
   ]
  },
  {
   "cell_type": "markdown",
   "id": "b9e9ad39",
   "metadata": {},
   "source": [
    "The output will reveal the number of occurrences for each digit, allowing us to visually assess the distribution.\n",
    "\n",
    "We can also visualize this distribution using a bar chart for a more intuitive understanding:"
   ]
  },
  {
   "cell_type": "code",
   "execution_count": 3,
   "id": "15f5939d",
   "metadata": {},
   "outputs": [
    {
     "data": {
      "image/png": "[encoded data removed]",
      "text/plain": [
       "<Figure size 640x480 with 1 Axes>"
      ]
     },
     "metadata": {},
     "output_type": "display_data"
    }
   ],
   "source": [
    "# Visualizing the digit frequency\n",
    "import matplotlib.pyplot as plt\n",
    "\n",
    "plt.bar(range(10), digit_counts, color='skyblue')\n",
    "plt.xticks(range(10))\n",
    "plt.xlabel('Digits')\n",
    "plt.ylabel('Frequency')\n",
    "plt.title('Digit Frequency in MNIST Training Dataset')\n",
    "plt.show()"
   ]
  },
  {
   "cell_type": "markdown",
   "id": "51d0ad1f",
   "metadata": {},
   "source": [
    "This bar chart clearly illustrates the frequency of each digit, helping to identify whether the dataset is balanced or if certain digits are underrepresented. A balanced dataset is essential for training robust machine learning models, as it helps mitigate the risk of bias towards more frequently occurring classes."
   ]
  },
  {
   "cell_type": "markdown",
   "id": "0e241802",
   "metadata": {},
   "source": [
    "### 3.2 Basic Statistical Measures (Mean, Variance, etc.)"
   ]
  },
  {
   "cell_type": "markdown",
   "id": "8f24a5f3",
   "metadata": {},
   "source": [
    "In this section, we will explore basic statistical measures of the MNIST dataset to gain insights into the characteristics of the pixel values across the images. Specifically, we will calculate the mean and variance of the pixel intensities, which can provide valuable information about the dataset's overall distribution.\n",
    "\n",
    "The pixel values in MNIST images range from 0 to 255, representing grayscale intensity. A thorough understanding of these measures can help in preprocessing steps, such as normalization.\n",
    "\n",
    "Calculating Mean and Variance\n",
    "We will compute the mean and variance for the training images using NumPy.In this section, we will explore basic statistical measures of the MNIST dataset to gain insights into the characteristics of the pixel values across the images. Specifically, we will calculate the mean and variance of the pixel intensities, which can provide valuable information about the dataset's overall distribution.\n",
    "\n",
    "The pixel values in MNIST images range from 0 to 255, representing grayscale intensity. A thorough understanding of these measures can help in preprocessing steps, such as normalization.\n",
    "\n",
    "**Calculating Mean and Variance** \\\n",
    "We will compute the mean and variance for the training images using NumPy."
   ]
  },
  {
   "cell_type": "code",
   "execution_count": 4,
   "id": "6b190a29",
   "metadata": {},
   "outputs": [
    {
     "name": "stdout",
     "output_type": "stream",
     "text": [
      "Mean Pixel Value: 33.318421449829934\n",
      "Variance of Pixel Values: 6172.850482291342\n"
     ]
    }
   ],
   "source": [
    "# Calculate the mean and variance of the training images\n",
    "mean_pixel_value = np.mean(train_images)\n",
    "variance_pixel_value = np.var(train_images)\n",
    "\n",
    "print(f\"Mean Pixel Value: {mean_pixel_value}\")\n",
    "print(f\"Variance of Pixel Values: {variance_pixel_value}\")"
   ]
  },
  {
   "cell_type": "markdown",
   "id": "0d495ac8",
   "metadata": {},
   "source": [
    "The mean pixel value indicates the average intensity of the images, while the variance measures how spread out the pixel values are from the mean. A low variance suggests that the pixel values are closely clustered around the mean, whereas a high variance indicates a wider spread of values.\n",
    "\n",
    "**Visualizing Pixel Value Distribution** \\\n",
    "To visualize the distribution of pixel values, we can create a histogram. This will provide a clearer view of how pixel intensities are distributed across the training images."
   ]
  },
  {
   "cell_type": "code",
   "execution_count": 5,
   "id": "cff41a6e",
   "metadata": {},
   "outputs": [
    {
     "data": {
      "image/png": "[encoded data removed]",
      "text/plain": [
       "<Figure size 640x480 with 1 Axes>"
      ]
     },
     "metadata": {},
     "output_type": "display_data"
    }
   ],
   "source": [
    "# Visualizing the distribution of pixel values\n",
    "plt.hist(train_images.flatten(), bins=256, color='gray', alpha=0.7)\n",
    "plt.title('Pixel Value Distribution in MNIST Training Dataset')\n",
    "plt.xlabel('Pixel Value')\n",
    "plt.ylabel('Frequency')\n",
    "plt.xlim([0, 255])\n",
    "plt.show()"
   ]
  },
  {
   "cell_type": "markdown",
   "id": "a4270274",
   "metadata": {},
   "source": [
    "The histogram illustrates how frequently each pixel value appears in the dataset, offering insights into the overall brightness and contrast of the images.\n",
    "\n",
    "Understanding these basic statistical measures is vital for further analysis and model development, particularly in determining the need for data normalization or augmentation."
   ]
  },
  {
   "cell_type": "markdown",
   "id": "8dd06cab",
   "metadata": {},
   "source": [
    "## 4. Data Visualization"
   ]
  },
  {
   "cell_type": "markdown",
   "id": "1b83ae50",
   "metadata": {},
   "source": [
    "### 4.1 Sample Visualizations of MNIST Digits"
   ]
  },
  {
   "cell_type": "markdown",
   "id": "15a1c102",
   "metadata": {},
   "source": [
    "Visualizing the dataset is an essential step in understanding the characteristics of the MNIST digits. By examining a few samples, we can gain insights into the diversity of handwriting styles present in the dataset.\n",
    "\n",
    "**Displaying Sample Images** \\\n",
    "We will randomly select and display a few images from the training set along with their corresponding labels. This will illustrate the variety of digits and the quality of the images."
   ]
  },
  {
   "cell_type": "code",
   "execution_count": 6,
   "id": "9e5e6610",
   "metadata": {},
   "outputs": [
    {
     "data": {
      "image/png": "[encoded data removed]",
      "text/plain": [
       "<Figure size 1000x500 with 5 Axes>"
      ]
     },
     "metadata": {},
     "output_type": "display_data"
    }
   ],
   "source": [
    "import random\n",
    "\n",
    "# Number of samples to display\n",
    "num_samples = 5\n",
    "random_indices = random.sample(range(len(train_images)), num_samples)\n",
    "\n",
    "# Create a figure for the samples\n",
    "plt.figure(figsize=(10, 5))\n",
    "\n",
    "for i, idx in enumerate(random_indices):\n",
    "    plt.subplot(1, num_samples, i + 1)\n",
    "    plt.imshow(train_images[idx], cmap='gray')\n",
    "    plt.title(f\"Label: {train_labels[idx]}\")\n",
    "    plt.axis('off')\n",
    "\n",
    "plt.suptitle('Sample Visualizations of MNIST Digits')\n",
    "plt.show()"
   ]
  },
  {
   "cell_type": "markdown",
   "id": "2329c4f2",
   "metadata": {},
   "source": [
    "**Insights from Visualization** \\\n",
    "By visualizing these samples, we can observe:\n",
    "\n",
    "- The diversity in handwriting styles for each digit.\n",
    "- The quality and resolution of the images, which are consistent across the dataset.\n",
    "- Any potential variations or patterns that may be useful in the classification task.\n",
    "\n",
    "This exploration sets the stage for deeper analysis and modeling, as we will see how these visual characteristics impact the performance of our machine learning algorithms."
   ]
  },
  {
   "cell_type": "markdown",
   "id": "557c9980",
   "metadata": {},
   "source": [
    "### 4.2 Heatmaps of Sample Images"
   ]
  },
  {
   "cell_type": "markdown",
   "id": "cac2ff02",
   "metadata": {},
   "source": [
    "Heatmaps provide a visual representation of pixel intensity values, showcasing how the brightness of pixels varies across different digits in the MNIST dataset. Each pixel's value is represented with a color gradient, enabling us to identify patterns and structures within the digits.\n",
    "\n",
    "**Visualizing Sample Images as Heatmaps** \\\n",
    "We will generate heatmaps for selected sample images, where the intensity of each pixel is represented by color."
   ]
  },
  {
   "cell_type": "code",
   "execution_count": 7,
   "id": "b7790e64",
   "metadata": {},
   "outputs": [
    {
     "data": {
      "image/png": "[encoded data removed]",
      "text/plain": [
       "<Figure size 1200x800 with 10 Axes>"
      ]
     },
     "metadata": {},
     "output_type": "display_data"
    }
   ],
   "source": [
    "# Import necessary libraries\n",
    "import matplotlib.pyplot as plt\n",
    "import seaborn as sns\n",
    "\n",
    "# Select a few sample images and their corresponding labels\n",
    "sample_indices = [0, 1, 2, 3, 4]\n",
    "sample_images = train_images[sample_indices]\n",
    "sample_labels = train_labels[sample_indices]\n",
    "\n",
    "# Set up the heatmap visualization\n",
    "plt.figure(figsize=(12, 8))\n",
    "for i, idx in enumerate(sample_indices):\n",
    "    plt.subplot(2, 3, i + 1)\n",
    "    sns.heatmap(sample_images[i], cmap='YlGnBu', cbar=True, square=True, annot=False, linewidths=0.5)\n",
    "    plt.title(f\"Label: {sample_labels[i]}\")\n",
    "    plt.axis('off')\n",
    "plt.tight_layout()\n",
    "plt.show()\n"
   ]
  },
  {
   "cell_type": "markdown",
   "id": "619bd2e0",
   "metadata": {},
   "source": [
    "Insights from the Heatmaps\n",
    "\n",
    "- Color Gradient: The colors indicate the pixel intensity values, where darker areas represent lower intensity (more black), and lighter areas represent higher intensity (more white).\n",
    "\n",
    "- Structural Patterns: These heatmaps help in visualizing the structure of each digit, revealing important features that are essential for classification.\n",
    "\n",
    "- Data Analysis: By analyzing these heatmaps, we can identify regions of high intensity that contribute significantly to the recognition of the digit.\n",
    "\n",
    "This representation enhances our understanding of how digit shapes are formed from pixel intensity distributions."
   ]
  },
  {
   "cell_type": "markdown",
   "id": "b12917f6",
   "metadata": {},
   "source": [
    "## 5. Data Preparation for Modeling"
   ]
  },
  {
   "cell_type": "markdown",
   "id": "93540ac3",
   "metadata": {},
   "source": [
    "### 5.1 Train-Test Split"
   ]
  },
  {
   "cell_type": "markdown",
   "id": "47a60c92",
   "metadata": {},
   "source": [
    "A crucial step in preparing our dataset for training machine learning models is to split the data into distinct training and testing sets. This ensures that our model is evaluated on unseen data, allowing us to gauge its performance accurately.\n",
    "\n",
    "**Creating the Train-Test Split** \\\n",
    "In the context of the MNIST dataset, we will use the training set for training the model and the test set for evaluation. The MNIST dataset already provides separate training and test images and labels, with the training set containing 60,000 samples and the test set containing 10,000 samples."
   ]
  },
  {
   "cell_type": "code",
   "execution_count": 8,
   "id": "06ee98ac",
   "metadata": {},
   "outputs": [
    {
     "name": "stdout",
     "output_type": "stream",
     "text": [
      "Train Images Shape: (60000, 28, 28)\n",
      "Train Labels Shape: (60000,)\n",
      "Test Images Shape: (10000, 28, 28)\n",
      "Test Labels Shape: (10000,)\n"
     ]
    }
   ],
   "source": [
    "# Load training and test images and labels\n",
    "train_images = mnist.train_images()\n",
    "train_labels = mnist.train_labels()\n",
    "test_images = mnist.test_images()\n",
    "test_labels = mnist.test_labels()\n",
    "\n",
    "# Verify the shapes of the datasets\n",
    "print(\"Train Images Shape:\", train_images.shape)  # Output: (60000, 28, 28)\n",
    "print(\"Train Labels Shape:\", train_labels.shape)  # Output: (60000,)\n",
    "print(\"Test Images Shape:\", test_images.shape)    # Output: (10000, 28, 28)\n",
    "print(\"Test Labels Shape:\", test_labels.shape)    # Output: (10000,)"
   ]
  },
  {
   "cell_type": "markdown",
   "id": "8b4148ec",
   "metadata": {},
   "source": [
    "### 5.2 Preparing Data for Neural Network Input"
   ]
  },
  {
   "cell_type": "markdown",
   "id": "b2184206",
   "metadata": {},
   "source": [
    "Once we have successfully split our dataset into training and testing sets, the next step involves preparing the data for input into our neural network. This preparation is crucial to ensure that the data is in the correct format and scale for optimal model performance.\n",
    "\n",
    "**Steps for Data Preparation** \\\n",
    "\n",
    "1. Reshaping the Data: Neural networks typically expect input data in a flat structure. For the MNIST dataset, each image is a 28x28 matrix of pixel values. We need to flatten these images into 1D arrays.\n",
    "\n",
    "2. Normalizing Pixel Values: The pixel values in the MNIST dataset range from 0 to 255. For many neural network models, especially those using activation functions like sigmoid or softmax, it is beneficial to normalize these values to a range between 0 and 1.\n",
    "\n",
    "3. Converting Labels to Categorical: If using a model that requires categorical output (like softmax), we will convert our labels into a one-hot encoded format."
   ]
  },
  {
   "cell_type": "code",
   "execution_count": 9,
   "id": "b70109c2",
   "metadata": {},
   "outputs": [
    {
     "name": "stdout",
     "output_type": "stream",
     "text": [
      "Prepared Train Images Shape: (60000, 784)\n",
      "Prepared Train Labels Shape: (60000, 10)\n",
      "Prepared Test Images Shape: (10000, 784)\n",
      "Prepared Test Labels Shape: (10000, 10)\n"
     ]
    }
   ],
   "source": [
    "from sklearn.preprocessing import OneHotEncoder\n",
    "\n",
    "# Reshape the images to be 1D arrays\n",
    "train_images_reshaped = train_images.reshape(train_images.shape[0], -1)\n",
    "test_images_reshaped = test_images.reshape(test_images.shape[0], -1)\n",
    "\n",
    "# Normalize the pixel values to the range [0, 1]\n",
    "train_images_normalized = train_images_reshaped / 255.0\n",
    "test_images_normalized = test_images_reshaped / 255.0\n",
    "\n",
    "# Convert labels to one-hot encoding\n",
    "encoder = OneHotEncoder()\n",
    "train_labels_one_hot = encoder.fit_transform(train_labels.reshape(-1, 1))\n",
    "test_labels_one_hot = encoder.transform(test_labels.reshape(-1, 1))\n",
    "\n",
    "# Check the shapes of the prepared datasets\n",
    "print(\"Prepared Train Images Shape:\", train_images_normalized.shape)  # Output: (60000, 784)\n",
    "print(\"Prepared Train Labels Shape:\", train_labels_one_hot.shape)     # Output: (60000, 10)\n",
    "print(\"Prepared Test Images Shape:\", test_images_normalized.shape)    # Output: (10000, 784)\n",
    "print(\"Prepared Test Labels Shape:\", test_labels_one_hot.shape)       # Output: (10000, 10)"
   ]
  },
  {
   "cell_type": "markdown",
   "id": "d7cb06d8",
   "metadata": {},
   "source": [
    "Summary of the Preparation\n",
    "\n",
    "- Reshaping: The 28x28 images are flattened into 784-dimensional vectors.\n",
    "- Normalization: Pixel values are scaled down to a range of [0, 1] for improved training stability and performance.\n",
    "- One-Hot Encoding: Labels are transformed into a binary matrix suitable for classification tasks.\n",
    "\n",
    "By following these steps, our data is now appropriately formatted and ready for training our neural network model."
   ]
  },
  {
   "cell_type": "markdown",
   "id": "e409514a",
   "metadata": {},
   "source": [
    "## 6. MLP Digit Recognition"
   ]
  },
  {
   "cell_type": "markdown",
   "id": "f527406a",
   "metadata": {},
   "source": [
    "### 6.1 Building a Simple MLP Model"
   ]
  },
  {
   "cell_type": "markdown",
   "id": "bbe14d85",
   "metadata": {},
   "source": [
    "### 6.2 Training the MLP on MNIST"
   ]
  },
  {
   "cell_type": "markdown",
   "id": "f457aa2e",
   "metadata": {},
   "source": [
    "### 6.3 Evaluating Model Performance (Accuracy, Loss)"
   ]
  },
  {
   "cell_type": "markdown",
   "id": "3379ed8a",
   "metadata": {},
   "source": [
    "### 6.4 Visualizing Model Predictions"
   ]
  },
  {
   "cell_type": "code",
   "execution_count": 10,
   "id": "28ff61e3",
   "metadata": {},
   "outputs": [],
   "source": [
    "import mnist\n",
    "import numpy as np\n",
    "import pandas as pd\n",
    "from matplotlib import pyplot"
   ]
  },
  {
   "cell_type": "code",
   "execution_count": 11,
   "id": "fd55b8d8",
   "metadata": {},
   "outputs": [],
   "source": [
    "train_images = mnist.train_images()\n",
    "train_labels = mnist.train_labels()\n",
    "\n",
    "df_imgs  = pd.DataFrame(train_images[0])\n",
    "df_labls = pd.DataFrame(train_labels[:1000])"
   ]
  }
 ],
 "metadata": {
  "kernelspec": {
   "display_name": "Python 3 (ipykernel)",
   "language": "python",
   "name": "python3"
  },
  "language_info": {
   "codemirror_mode": {
    "name": "ipython",
    "version": 3
   },
   "file_extension": ".py",
   "mimetype": "text/x-python",
   "name": "python",
   "nbconvert_exporter": "python",
   "pygments_lexer": "ipython3",
   "version": "3.12.0"
  },
  "widgets": {
   "application/vnd.jupyter.widget-state+json": {
    "state": {},
    "version_major": 1,
    "version_minor": 0
   }
  }
 },
 "nbformat": 4,
 "nbformat_minor": 5
}
